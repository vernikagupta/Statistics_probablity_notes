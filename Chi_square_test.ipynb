{
 "cells": [
  {
   "cell_type": "markdown",
   "id": "aac88e7b-3313-4932-b914-b3b3be3dc2bc",
   "metadata": {},
   "source": [
    "#### Chi Square Test\n",
    "The Chi-Square (χ²) test is a statistical hypothesis test used for categorical variables to determine whether there is a significant difference between observed and expected frequencies.\n",
    "\n",
    "**A. Test of Independence**\n",
    "\n",
    "Purpose: Checks if two categorical variables are related or independent\n",
    "\n",
    "Example: Is there a relationship between Gender and Spending Category?\n",
    "\n",
    "Hypotheses:\n",
    "\n",
    "H₀ (Null): The variables are independent (no relationship).\n",
    "\n",
    "H₁ (Alternate): The variables are associated.\n",
    "\n",
    "**B. Goodness of Fit Test**\n",
    "Purpose: Checks if the distribution of a single categorical variable fits a theoretical or expected distribution.\n",
    "\n",
    "Example: Is the gender distribution in the sample 50:50 (Male:Female)?\n",
    "\n",
    "Hypotheses:\n",
    "\n",
    "H₀ (Null): Observed distribution matches expected.\n",
    "\n",
    "H₁ (Alternate): Observed distribution is significantly different from expected.\n",
    "\n",
    "**Assumptions**\n",
    "1. Observations are independent.\n",
    "2. Sample size should be large enough (typically expected frequency ≥ 5 for most cells).\n",
    "\n",
    "3. Variables must be categorical (convert numerical to categories if needed).\n",
    "\n"
   ]
  },
  {
   "cell_type": "code",
   "execution_count": 1,
   "id": "ed969b5d-d563-4991-ba2b-574a726b6a26",
   "metadata": {},
   "outputs": [],
   "source": [
    "import pandas as pd\n",
    "pd.set_option('display.max_columns', None)\n",
    "\n",
    "pd.set_option('display.max_rows', None)\n",
    "\n",
    "pd.set_option('display.width', None)\n",
    "pd.set_option('display.max_colwidth', None)\n",
    "import numpy as np"
   ]
  },
  {
   "cell_type": "code",
   "execution_count": 2,
   "id": "a216a2ba-6f6e-42b8-a1cc-08121b888f17",
   "metadata": {},
   "outputs": [
    {
     "name": "stdout",
     "output_type": "stream",
     "text": [
      "<class 'pandas.core.frame.DataFrame'>\n",
      "RangeIndex: 200 entries, 0 to 199\n",
      "Data columns (total 5 columns):\n",
      " #   Column                  Non-Null Count  Dtype \n",
      "---  ------                  --------------  ----- \n",
      " 0   CustomerID              200 non-null    int64 \n",
      " 1   Gender                  200 non-null    object\n",
      " 2   Age                     200 non-null    int64 \n",
      " 3   Annual Income (k$)      200 non-null    int64 \n",
      " 4   Spending Score (1-100)  200 non-null    int64 \n",
      "dtypes: int64(4), object(1)\n",
      "memory usage: 7.9+ KB\n"
     ]
    }
   ],
   "source": [
    "data = pd.read_csv(r'data\\Mall_Customers.csv')\n",
    "data.info()"
   ]
  },
  {
   "cell_type": "code",
   "execution_count": 7,
   "id": "eb56c830-f3b5-449f-bec7-e98280e5fbc4",
   "metadata": {},
   "outputs": [],
   "source": [
    "# Use Case 1: Test of Independence (Gender vs Spending Category)\n",
    "# HO: Gender and Spending Category are independent.\n",
    "# H1: There is a relation between gender and spending score\n",
    "# If p < 0.05, reject H₀.\n",
    "\n",
    "# Spending score is a continuous variable, so convert to categories first\n",
    "bins = [0,33,66,100]\n",
    "labels = ['low','medium','high']\n",
    "data['spending_category'] = pd.cut(data['Spending Score (1-100)'],bins=bins,labels=labels)"
   ]
  },
  {
   "cell_type": "code",
   "execution_count": 8,
   "id": "2f86f345-be1b-4cb6-b1f2-1ba61c9f7a8c",
   "metadata": {},
   "outputs": [
    {
     "data": {
      "text/html": [
       "<div>\n",
       "<style scoped>\n",
       "    .dataframe tbody tr th:only-of-type {\n",
       "        vertical-align: middle;\n",
       "    }\n",
       "\n",
       "    .dataframe tbody tr th {\n",
       "        vertical-align: top;\n",
       "    }\n",
       "\n",
       "    .dataframe thead th {\n",
       "        text-align: right;\n",
       "    }\n",
       "</style>\n",
       "<table border=\"1\" class=\"dataframe\">\n",
       "  <thead>\n",
       "    <tr style=\"text-align: right;\">\n",
       "      <th></th>\n",
       "      <th>CustomerID</th>\n",
       "      <th>Gender</th>\n",
       "      <th>Age</th>\n",
       "      <th>Annual Income (k$)</th>\n",
       "      <th>Spending Score (1-100)</th>\n",
       "      <th>spending_category</th>\n",
       "    </tr>\n",
       "  </thead>\n",
       "  <tbody>\n",
       "    <tr>\n",
       "      <th>0</th>\n",
       "      <td>1</td>\n",
       "      <td>Male</td>\n",
       "      <td>19</td>\n",
       "      <td>15</td>\n",
       "      <td>39</td>\n",
       "      <td>medium</td>\n",
       "    </tr>\n",
       "    <tr>\n",
       "      <th>1</th>\n",
       "      <td>2</td>\n",
       "      <td>Male</td>\n",
       "      <td>21</td>\n",
       "      <td>15</td>\n",
       "      <td>81</td>\n",
       "      <td>high</td>\n",
       "    </tr>\n",
       "    <tr>\n",
       "      <th>2</th>\n",
       "      <td>3</td>\n",
       "      <td>Female</td>\n",
       "      <td>20</td>\n",
       "      <td>16</td>\n",
       "      <td>6</td>\n",
       "      <td>low</td>\n",
       "    </tr>\n",
       "    <tr>\n",
       "      <th>3</th>\n",
       "      <td>4</td>\n",
       "      <td>Female</td>\n",
       "      <td>23</td>\n",
       "      <td>16</td>\n",
       "      <td>77</td>\n",
       "      <td>high</td>\n",
       "    </tr>\n",
       "    <tr>\n",
       "      <th>4</th>\n",
       "      <td>5</td>\n",
       "      <td>Female</td>\n",
       "      <td>31</td>\n",
       "      <td>17</td>\n",
       "      <td>40</td>\n",
       "      <td>medium</td>\n",
       "    </tr>\n",
       "  </tbody>\n",
       "</table>\n",
       "</div>"
      ],
      "text/plain": [
       "   CustomerID  Gender  Age  Annual Income (k$)  Spending Score (1-100)  \\\n",
       "0           1    Male   19                  15                      39   \n",
       "1           2    Male   21                  15                      81   \n",
       "2           3  Female   20                  16                       6   \n",
       "3           4  Female   23                  16                      77   \n",
       "4           5  Female   31                  17                      40   \n",
       "\n",
       "  spending_category  \n",
       "0            medium  \n",
       "1              high  \n",
       "2               low  \n",
       "3              high  \n",
       "4            medium  "
      ]
     },
     "execution_count": 8,
     "metadata": {},
     "output_type": "execute_result"
    }
   ],
   "source": [
    "data.head()"
   ]
  },
  {
   "cell_type": "code",
   "execution_count": 9,
   "id": "85ff16a3-7756-41a6-b61c-d5df010d3277",
   "metadata": {},
   "outputs": [
    {
     "data": {
      "text/html": [
       "<div>\n",
       "<style scoped>\n",
       "    .dataframe tbody tr th:only-of-type {\n",
       "        vertical-align: middle;\n",
       "    }\n",
       "\n",
       "    .dataframe tbody tr th {\n",
       "        vertical-align: top;\n",
       "    }\n",
       "\n",
       "    .dataframe thead th {\n",
       "        text-align: right;\n",
       "    }\n",
       "</style>\n",
       "<table border=\"1\" class=\"dataframe\">\n",
       "  <thead>\n",
       "    <tr style=\"text-align: right;\">\n",
       "      <th>spending_category</th>\n",
       "      <th>low</th>\n",
       "      <th>medium</th>\n",
       "      <th>high</th>\n",
       "    </tr>\n",
       "    <tr>\n",
       "      <th>Gender</th>\n",
       "      <th></th>\n",
       "      <th></th>\n",
       "      <th></th>\n",
       "    </tr>\n",
       "  </thead>\n",
       "  <tbody>\n",
       "    <tr>\n",
       "      <th>Female</th>\n",
       "      <td>25</td>\n",
       "      <td>54</td>\n",
       "      <td>33</td>\n",
       "    </tr>\n",
       "    <tr>\n",
       "      <th>Male</th>\n",
       "      <td>24</td>\n",
       "      <td>40</td>\n",
       "      <td>24</td>\n",
       "    </tr>\n",
       "  </tbody>\n",
       "</table>\n",
       "</div>"
      ],
      "text/plain": [
       "spending_category  low  medium  high\n",
       "Gender                              \n",
       "Female              25      54    33\n",
       "Male                24      40    24"
      ]
     },
     "execution_count": 9,
     "metadata": {},
     "output_type": "execute_result"
    }
   ],
   "source": [
    "#### now to do chi square test, we need contingency table\n",
    "data_crosstab = pd.crosstab(data['Gender'],data['spending_category'])\n",
    "data_crosstab"
   ]
  },
  {
   "cell_type": "code",
   "execution_count": 18,
   "id": "7344ce32-e689-41e1-8dba-78cdf6114016",
   "metadata": {},
   "outputs": [
    {
     "name": "stdout",
     "output_type": "stream",
     "text": [
      "\n",
      "Chi-Square Statistic: 0.66\n",
      "P-value: 0.7204\n",
      "Degrees of Freedom: 2\n",
      "\n",
      "Expected Frequencies:\n",
      " spending_category    low  medium   high\n",
      "Gender                                 \n",
      "Female             27.44   52.64  31.92\n",
      "Male               21.56   41.36  25.08\n",
      "\n",
      "❌ Fail to Reject Null Hypothesis: There is NO significant association between Gender and Spending Category.\n"
     ]
    }
   ],
   "source": [
    "from scipy.stats import chi2_contingency\n",
    "chi2, p, dof, expected = chi2_contingency(data_crosstab)\n",
    "# Step 3: Print test results\n",
    "print(f\"\\nChi-Square Statistic: {chi2:.2f}\")\n",
    "print(f\"P-value: {p:.4f}\")\n",
    "print(f\"Degrees of Freedom: {dof}\")\n",
    "print(\"\\nExpected Frequencies:\\n\", pd.DataFrame(expected, \n",
    "                                                index=data_crosstab.index, \n",
    "                                                columns=data_crosstab.columns))\n",
    "\n",
    "# Step 4: Conclusion\n",
    "alpha = 0.05\n",
    "if p < alpha:\n",
    "    print(\"\\n✅ Reject Null Hypothesis: There IS a significant association between Gender and Spending Category.\")\n",
    "else:\n",
    "    print(\"\\n❌ Fail to Reject Null Hypothesis: There is NO significant association between Gender and Spending Category.\")\n"
   ]
  },
  {
   "cell_type": "markdown",
   "id": "87ae3408-0de2-44f6-afa7-088732ef06a0",
   "metadata": {},
   "source": [
    "#### Interpretion\n",
    "1. There is no significant relationship between gender and spending category\n",
    "2. The difference that we see in spending categories between male and female can be due to random sampling.\n",
    "3. So, we cannot conclude that males and females spend differently in this dataset — at least not in a statistically significant way.\n",
    "4. If the null hypothesis is true (i.e., Gender and Spending Category are independent), then there is a 72% chance of observing a difference in counts this extreme or more extreme just due to random variation.\n",
    "5. A p-value of 0.72 means that the data is very compatible with the null hypothesis.\n",
    "The difference you're seeing is so likely to happen randomly, that there's no statistical reason to believe there's a real association.\n"
   ]
  },
  {
   "cell_type": "markdown",
   "id": "9d70844c-acbf-4ea9-bc22-d74784a278cc",
   "metadata": {},
   "source": [
    "#### A Common Misunderstanding\n",
    "Even if the raw counts seem different in the contingency table, the Chi-Square test asks:\n",
    "\n",
    "Are these differences big enough to be meaningful, or are they just small random fluctuations?\n",
    "\n",
    "Any differences observed are **likely due to random variation**, not a true relationship."
   ]
  },
  {
   "cell_type": "markdown",
   "id": "5f2a3c71-3df4-4778-92e3-23dd258649ed",
   "metadata": {},
   "source": [
    "#### How expected got calcualted in this case\n",
    "\n",
    "| Concept                | Formula/Logic                                                            |\n",
    "| ---------------------- | ------------------------------------------------------------------------ |\n",
    "| **Expected Count**     | $\\frac{\\text{Row Total} \\times \\text{Column Total}}{\\text{Grand Total}}$ |\n",
    "| **Degrees of Freedom** | $(\\text{Rows} - 1) \\times (\\text{Columns} - 1)$                          |\n",
    "| **Goal**               | To test whether the two variables are associated or not                  |\n"
   ]
  },
  {
   "cell_type": "markdown",
   "id": "fbb1e532-2e29-43ca-b503-0e1e44b6764f",
   "metadata": {},
   "source": [
    "#### Goodness of Fit Test"
   ]
  },
  {
   "cell_type": "code",
   "execution_count": 20,
   "id": "88724330-8d68-43da-812f-7b95399bfbd3",
   "metadata": {},
   "outputs": [
    {
     "name": "stdout",
     "output_type": "stream",
     "text": [
      "Observed counts:\n",
      " spending_category\n",
      "low       49\n",
      "medium    94\n",
      "high      57\n",
      "Name: count, dtype: int64\n",
      "\n",
      "Expected counts:\n",
      " [66.66666666666667, 66.66666666666667, 66.66666666666667]\n",
      "\n",
      "Chi-square Statistic: 17.29\n",
      "P-value: 0.0002\n",
      "✅ Reject H₀: The distribution of spending categories is significantly different from expected.\n"
     ]
    }
   ],
   "source": [
    "from scipy.stats import chisquare\n",
    "\n",
    "# Count observed frequencies\n",
    "observed_counts = data['spending_category'].value_counts().sort_index()\n",
    "print(\"Observed counts:\\n\", observed_counts)\n",
    "\n",
    "# Expected counts — equal distribution\n",
    "expected_counts = [len(data) / 3] * 3  # assuming equal expected for 3 categories\n",
    "print(\"\\nExpected counts:\\n\", expected_counts)\n",
    "\n",
    "# Perform Chi-Square Goodness of Fit Test\n",
    "chi2_stat, p_val = chisquare(f_obs=observed_counts, f_exp=expected_counts)\n",
    "\n",
    "print(f\"\\nChi-square Statistic: {chi2_stat:.2f}\")\n",
    "print(f\"P-value: {p_val:.4f}\")\n",
    "\n",
    "# Interpretation\n",
    "if p_val < 0.05:\n",
    "    print(\"✅ Reject H₀: The distribution of spending categories is significantly different from expected.\")\n",
    "else:\n",
    "    print(\"❌ Fail to reject H₀: The observed distribution fits the expected distribution.\")\n"
   ]
  },
  {
   "cell_type": "code",
   "execution_count": null,
   "id": "03115a36-fbac-4ed4-b6be-467b5544f20b",
   "metadata": {},
   "outputs": [],
   "source": []
  }
 ],
 "metadata": {
  "kernelspec": {
   "display_name": "Python 3 (ipykernel)",
   "language": "python",
   "name": "python3"
  },
  "language_info": {
   "codemirror_mode": {
    "name": "ipython",
    "version": 3
   },
   "file_extension": ".py",
   "mimetype": "text/x-python",
   "name": "python",
   "nbconvert_exporter": "python",
   "pygments_lexer": "ipython3",
   "version": "3.12.9"
  }
 },
 "nbformat": 4,
 "nbformat_minor": 5
}
