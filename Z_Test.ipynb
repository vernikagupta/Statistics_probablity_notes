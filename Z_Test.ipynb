{
 "cells": [
  {
   "cell_type": "markdown",
   "id": "dce7dc93-a74e-4cb1-bd0b-0a18a4e8eb1c",
   "metadata": {},
   "source": [
    "#### Z -test is a statistical test to compare sample mean to a known population mean or compare two sample means. \n",
    "1. Z test is based on z distribution which is standard normal distribution.\n",
    "2. Z distribution assumes 0 mean and 1 standard deviation under null hypothese.\n",
    "3. If population std. devaition is known then sample size can be small < 30\n",
    "4. If population std. devaition is not known then sample size should be > 30 to perform Z test as per central limit theorm.\n",
    "5. Samples should be randomly choosen and independent.\n",
    "6. We can use z test to compare two samples also but for that we should know std. devaition of both populations.\n",
    "7. If we don't know population std. devaition and also sample size is small, we have to go for t-test inplace of z-test."
   ]
  },
  {
   "cell_type": "code",
   "execution_count": 1,
   "id": "5ba49916-2987-4c1c-aeb9-351aba750346",
   "metadata": {},
   "outputs": [],
   "source": [
    "import kagglehub\n",
    "\n",
    "# Download latest version\n",
    "path = kagglehub.dataset_download(\"vjchoudhary7/customer-segmentation-tutorial-in-python\")\n",
    "\n",
    "# print(\"Path to dataset files:\", path)"
   ]
  },
  {
   "cell_type": "code",
   "execution_count": 15,
   "id": "b602800e-f7ec-45ad-b570-f424de067a03",
   "metadata": {},
   "outputs": [],
   "source": [
    "import pandas as pd\n",
    "pd.set_option('display.max_columns', None)\n",
    "\n",
    "pd.set_option('display.max_rows', None)\n",
    "\n",
    "pd.set_option('display.width', None)\n",
    "pd.set_option('display.max_colwidth', None)\n",
    "import numpy as np"
   ]
  },
  {
   "cell_type": "code",
   "execution_count": 8,
   "id": "7efa33c6-adfd-4995-a059-e3b9e7451f08",
   "metadata": {},
   "outputs": [
    {
     "name": "stdout",
     "output_type": "stream",
     "text": [
      "<class 'pandas.core.frame.DataFrame'>\n",
      "RangeIndex: 200 entries, 0 to 199\n",
      "Data columns (total 5 columns):\n",
      " #   Column                  Non-Null Count  Dtype \n",
      "---  ------                  --------------  ----- \n",
      " 0   CustomerID              200 non-null    int64 \n",
      " 1   Gender                  200 non-null    object\n",
      " 2   Age                     200 non-null    int64 \n",
      " 3   Annual Income (k$)      200 non-null    int64 \n",
      " 4   Spending Score (1-100)  200 non-null    int64 \n",
      "dtypes: int64(4), object(1)\n",
      "memory usage: 7.9+ KB\n"
     ]
    }
   ],
   "source": [
    "data = pd.read_csv(r'data\\Mall_Customers.csv')\n",
    "data.info()"
   ]
  },
  {
   "cell_type": "code",
   "execution_count": 9,
   "id": "c6d85e4f-8671-4cd0-a805-1c87455b0b0c",
   "metadata": {},
   "outputs": [
    {
     "data": {
      "text/html": [
       "<div>\n",
       "<style scoped>\n",
       "    .dataframe tbody tr th:only-of-type {\n",
       "        vertical-align: middle;\n",
       "    }\n",
       "\n",
       "    .dataframe tbody tr th {\n",
       "        vertical-align: top;\n",
       "    }\n",
       "\n",
       "    .dataframe thead th {\n",
       "        text-align: right;\n",
       "    }\n",
       "</style>\n",
       "<table border=\"1\" class=\"dataframe\">\n",
       "  <thead>\n",
       "    <tr style=\"text-align: right;\">\n",
       "      <th></th>\n",
       "      <th>CustomerID</th>\n",
       "      <th>Gender</th>\n",
       "      <th>Age</th>\n",
       "      <th>Annual Income (k$)</th>\n",
       "      <th>Spending Score (1-100)</th>\n",
       "    </tr>\n",
       "  </thead>\n",
       "  <tbody>\n",
       "    <tr>\n",
       "      <th>0</th>\n",
       "      <td>1</td>\n",
       "      <td>Male</td>\n",
       "      <td>19</td>\n",
       "      <td>15</td>\n",
       "      <td>39</td>\n",
       "    </tr>\n",
       "    <tr>\n",
       "      <th>1</th>\n",
       "      <td>2</td>\n",
       "      <td>Male</td>\n",
       "      <td>21</td>\n",
       "      <td>15</td>\n",
       "      <td>81</td>\n",
       "    </tr>\n",
       "    <tr>\n",
       "      <th>2</th>\n",
       "      <td>3</td>\n",
       "      <td>Female</td>\n",
       "      <td>20</td>\n",
       "      <td>16</td>\n",
       "      <td>6</td>\n",
       "    </tr>\n",
       "    <tr>\n",
       "      <th>3</th>\n",
       "      <td>4</td>\n",
       "      <td>Female</td>\n",
       "      <td>23</td>\n",
       "      <td>16</td>\n",
       "      <td>77</td>\n",
       "    </tr>\n",
       "    <tr>\n",
       "      <th>4</th>\n",
       "      <td>5</td>\n",
       "      <td>Female</td>\n",
       "      <td>31</td>\n",
       "      <td>17</td>\n",
       "      <td>40</td>\n",
       "    </tr>\n",
       "  </tbody>\n",
       "</table>\n",
       "</div>"
      ],
      "text/plain": [
       "   CustomerID  Gender  Age  Annual Income (k$)  Spending Score (1-100)\n",
       "0           1    Male   19                  15                      39\n",
       "1           2    Male   21                  15                      81\n",
       "2           3  Female   20                  16                       6\n",
       "3           4  Female   23                  16                      77\n",
       "4           5  Female   31                  17                      40"
      ]
     },
     "execution_count": 9,
     "metadata": {},
     "output_type": "execute_result"
    }
   ],
   "source": [
    "data.head()"
   ]
  },
  {
   "attachments": {
    "aa4ad732-c93d-4d41-8f0b-a4e6bca2881d.png": {
     "image/png": "[encoded data removed]"
    }
   },
   "cell_type": "markdown",
   "id": "389a6a13-a869-4599-acf6-70ba4e8d8de1",
   "metadata": {},
   "source": [
    "#### lets say we want to test if average spending score differ from population or not\n",
    "#### we don't have population standarad devaittion, so we should go for t- test but fo rlearning we will take sample standard deviation\n",
    "![image.png](attachment:aa4ad732-c93d-4d41-8f0b-a4e6bca2881d.png)"
   ]
  },
  {
   "cell_type": "code",
   "execution_count": 22,
   "id": "f81dfb04-3339-4832-bd9f-0346593447f0",
   "metadata": {},
   "outputs": [
    {
     "name": "stdout",
     "output_type": "stream",
     "text": [
      "Z statistics :  0.110\n",
      "p-value is :  0.913\n",
      "We fail to reject the null hypothesis: No significant difference from population mean.\n"
     ]
    }
   ],
   "source": [
    "from scipy.stats import norm\n",
    "\n",
    "# lets assume popualtion mean is 50 \n",
    "# Ho : sample mean is == 50\n",
    "# H1 : sample mean is != 50\n",
    "# Population std ≈ Sample std\n",
    "# two tailed test\n",
    "\n",
    "pop_mean = 50\n",
    "\n",
    "sample = data['Spending Score (1-100)']\n",
    "sample_mean = sample.mean()\n",
    "sample_std = sample.std()\n",
    "n = len(sample)\n",
    "\n",
    "# z statistics\n",
    "z_score = (sample_mean - pop_mean)/(sample_std/np.sqrt(n))\n",
    "print(f\"Z statistics : {z_score : .3f}\")\n",
    "\n",
    "# two tailed p- value\n",
    "p_value = 2 * (1 - norm.cdf(abs(z_score)))\n",
    "print(f\"p-value is : {p_value : .3f}\")\n",
    "\n",
    "if p_value < 0.05:  # 0.05 is significance levek which means i am accepting risk of 5% type 1 error if my null hypothese is true.\n",
    "    print(\"We reject the null hypothesis: Sample mean is significantly different from population mean.\")\n",
    "else:\n",
    "    print(\"We fail to reject the null hypothesis: No significant difference from population mean.\")\n"
   ]
  },
  {
   "cell_type": "markdown",
   "id": "45e6421d-ff3d-46a0-a938-a87a286d7255",
   "metadata": {},
   "source": [
    "#### ✅ What Do These Values Mean?\n",
    "🧮 Z-statistic = 0.11\n",
    "This means that the sample mean is just 0.11 standard errors away from the population mean (which we've assumed to be 50).\n",
    "\n",
    "In simpler terms:\n",
    "The observed sample mean is very close to what we’d expect if the true mean were 50.\n",
    "\n",
    "**📐 What is Standard Error?**\n",
    "The Standard Error (SE) is the standard deviation of the sampling distribution of the sample mean.\n",
    "\n",
    "If you:\n",
    "\n",
    "Take many random samples of the same size from a population,\n",
    "\n",
    "Calculate the mean of each,\n",
    "\n",
    "Plot all those sample means...\n",
    "\n",
    "👉 The spread (standard deviation) of that distribution is called the Standard Error.\n",
    "\n",
    "Formula:\n",
    "Standard Error = Sample Standard Deviation / sqrt(sample size)\n",
    " \n",
    "🔁 Putting It All Together:\n",
    "So when your z-statistic is 0.11, it means:\n",
    "\n",
    "“The sample mean is only 0.11 SE units away from the population mean.”\n",
    "\n",
    "Since this is such a small distance, it's well within the range of random variation you'd expect if the null hypothesis were true — hence, you fail to reject it.\n",
    "\n",
    "**P value** : it says there is 90% chance of observing my sample mean to be this far or more from true popualtion mean just by random chance.\n",
    "In this case, we are saying if my null hypothsis is true, there is 90% probability of observing sample mean to be so close to population mean just by sampling variation, so we can't reject null hypothesis.\n",
    "\n",
    "**What “Random Chance” Actually Means**\n",
    "\n",
    "It refers to Natural sampling variability due to taking only a sample instead of the whole population.The noise you expect in real-world data collection.\n",
    "\n",
    "So when we say:\n",
    "\n",
    "\"There's a 90% chance I could see a result this extreme just by random chance,\"\n",
    "\n",
    "We mean:\n",
    "\n",
    "\"Given that nothing special is going on (null is true), it’s very likely that random variation alone could explain the result I got.\"\n"
   ]
  },
  {
   "cell_type": "markdown",
   "id": "51cbb567-8338-4cab-8d96-790a7eb1a85b",
   "metadata": {},
   "source": [
    "#### Final Revised Summary\n",
    "When I conduct a hypothesis test, I’m essentially checking whether there is a real, statistically significant difference between groups — in other words, is the observed difference due to something meaningful, or could it just be due to random chance?\n",
    "The null hypothesis (H₀) assumes that there is no real difference, while the alternate hypothesis (H₁) assumes that a true difference exists.\n",
    "\n",
    "The p-value is the probability of observing a test statistic as extreme as mine — or more extreme — purely by random chance, assuming the null hypothesis is true. It does not tell me whether the null is true or false. Instead, it asks: \"If the null hypothesis were true, how unusual would my observed result be?\"\n",
    "\n",
    "For example, a p-value of 0.03 means there’s a 3% chance I’d see a result this extreme just by random variation, assuming H₀ is correct. If this probability is low enough — typically below a significance level (α) of 0.05 — I reject the null, accepting that the result is likely not due to chance. Becasue when p value is less, you will find test result value fall right or left to the critical value, or I can say at the tail of distribution, so this much distance can't happen purely due to chance, so we can say there is a statistical difference.p-value of 0.03 means there’s a 3% chance of observing a test statistic this extreme — or even more extreme — purely by random variation, assuming the null hypothesis (H₀) is true.\n",
    "Now, if this probability is less than the chosen significance level (α = 0.05), we say the result is statistically significant and we reject H₀.\n",
    "\n",
    "Why?\n",
    "Because low p-values correspond to results that fall far out in the tails of the sampling distribution — that is, they lie far from the expected value under H₀. This much deviation is unlikely to occur just by chance, which makes us question the assumption that H₀ is true.\n",
    "\n",
    "In simpler terms:\n",
    "When a test result is so far from the null expectation that it lands in the tail of the distribution, we doubt it happened by chance — and thus, we reject the null hypothesis, concluding there’s likely a real difference.\n",
    "\n",
    "This threshold, α (significance level), represents the maximum risk I’m willing to take for making a Type I error — i.e., rejecting a true null hypothesis. So, when p-value < α, I say the result is statistically significant and I reject H₀, knowing there's still a small (e.g., 5%) chance that I could be wrong.\n",
    "\n",
    "In summary:\n",
    "Statistical significance means the result is likely not due to random noise.\n",
    "P-value quantifies how surprising my data is, assuming H₀ is true.\n",
    "Significance level (α) is the risk I’m okay with for wrongly rejecting H₀.\n",
    "If p-value < α → I reject H₀ (strong evidence against H₀).\n",
    "If p-value ≥ α → I fail to reject H₀ (not enough evidence against it).\n",
    "\n"
   ]
  },
  {
   "cell_type": "markdown",
   "id": "592bfa3b-d6b1-4935-b2fa-0418b0d908de",
   "metadata": {},
   "source": [
    "#### When to Use Two-Sample Z-Test?\n",
    "1. When we want to compare mean of two samples taken from a population.\n",
    "2. Sample size is > 30\n",
    "3. Population variance is known or we are approximating here for learning\n",
    "4. Samples are independent as male and female in this dataset\n",
    "5. The variable of interest is continuous (e.g., Spending Score)."
   ]
  },
  {
   "cell_type": "markdown",
   "id": "433d2957-5eb3-4d24-85dd-406d7fae414b",
   "metadata": {},
   "source": [
    "#### Hypotheses:\n",
    "1. Null Hypothesis: There is no statistical significant difference between average spending score of male and female\n",
    "2. Alernate Hypothesis: There is a statistical significant differenc between average spending score of male and female."
   ]
  },
  {
   "cell_type": "code",
   "execution_count": 25,
   "id": "2cdd00fc-169d-4585-9c76-02ccb4eb8e5d",
   "metadata": {},
   "outputs": [
    {
     "name": "stdout",
     "output_type": "stream",
     "text": [
      "z stats : -0.80\n",
      "p value :  0.4209\n"
     ]
    }
   ],
   "source": [
    "group1 = data[data['Gender'] == 'Male']['Spending Score (1-100)']\n",
    "group2 = data[data['Gender'] == 'Female'] ['Spending Score (1-100)']\n",
    "mean1, mean2 = group1.mean(), group2.mean()\n",
    "std1, std2 = group1.std(), group2.std()\n",
    "n1, n2 = len(group1), len(group2)\n",
    "\n",
    "# z statistic\n",
    "z = (mean1 - mean2) / np.sqrt((std1**2 / n1) + (std2**2 / n2))\n",
    "\n",
    "# two-tailed p-value\n",
    "p_val = 2 * (1 - norm.cdf(abs(z)))\n",
    "print(f\"z stats : {z:.2f}\")\n",
    "print(f\"p value : {p_val: .4f}\")"
   ]
  },
  {
   "cell_type": "code",
   "execution_count": 27,
   "id": "e8da9349-e757-47b7-9949-1f143ba183b7",
   "metadata": {},
   "outputs": [
    {
     "name": "stdout",
     "output_type": "stream",
     "text": [
      "we fail to reject null hypothesis: There is no statistical significant differenc between average spending score of male and female.\n"
     ]
    }
   ],
   "source": [
    "if p_val < 0.05:\n",
    "    print(\"We reject null hypothesis: There is a statistical significant differenc between average spending score of male and female.\")\n",
    "else:\n",
    "    print(\"we fail to reject null hypothesis: There is no statistical significant differenc between average spending score of male and female.\")"
   ]
  },
  {
   "cell_type": "markdown",
   "id": "dd145369-1c08-45b2-8b52-25adac20aa6d",
   "metadata": {},
   "source": [
    "### ✅ Final Interpretation\n",
    "Z-statistic = –0.80\n",
    "This tells you that the difference between male and female average spending scores is only 0.80 standard errors away from 0. That’s a small difference.\n",
    "\n",
    "P-value = 0.421\n",
    "This means:\n",
    "👉 If the true population means are equal (i.e., H₀ is true), there is a 42.1% chance you’d observe a difference in sample means this big (or bigger) just by random chance.\n",
    "\n",
    "**Conclusion:**\n",
    "Because p = 0.421 > α = 0.05:\n",
    "\n",
    "❌ We fail to reject the null hypothesis.\n",
    "✅ There is no statistically significant difference in average spending score between male and female customers."
   ]
  },
  {
   "cell_type": "code",
   "execution_count": null,
   "id": "104016d0-290b-41f8-a0cc-1e573d25f815",
   "metadata": {},
   "outputs": [],
   "source": []
  }
 ],
 "metadata": {
  "kernelspec": {
   "display_name": "cvs",
   "language": "python",
   "name": "cvs"
  },
  "language_info": {
   "codemirror_mode": {
    "name": "ipython",
    "version": 3
   },
   "file_extension": ".py",
   "mimetype": "text/x-python",
   "name": "python",
   "nbconvert_exporter": "python",
   "pygments_lexer": "ipython3",
   "version": "3.12.9"
  }
 },
 "nbformat": 4,
 "nbformat_minor": 5
}
